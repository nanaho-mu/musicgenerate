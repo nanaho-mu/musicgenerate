{
  "nbformat": 4,
  "nbformat_minor": 0,
  "metadata": {
    "accelerator": "GPU",
    "colab": {
      "name": "musicgeneration.ipynb",
      "provenance": [],
      "collapsed_sections": [],
      "mount_file_id": "1ZVwYVWv7BnUc-v5Q2EBcTUkoYvyArofe",
      "authorship_tag": "ABX9TyNWUQpdNf0quB0+iCBcn9mM",
      "include_colab_link": true
    },
    "kernelspec": {
      "display_name": "Python 3",
      "name": "python3"
    },
    "language_info": {
      "name": "python"
    }
  },
  "cells": [
    {
      "cell_type": "markdown",
      "metadata": {
        "id": "view-in-github",
        "colab_type": "text"
      },
      "source": [
        "<a href=\"https://colab.research.google.com/github/nanaho-mu/musicgenerate/blob/main/musicgeneration.ipynb\" target=\"_parent\"><img src=\"https://colab.research.google.com/assets/colab-badge.svg\" alt=\"Open In Colab\"/></a>"
      ]
    },
    {
      "cell_type": "code",
      "metadata": {
        "id": "RBdggC_OSRVD"
      },
      "source": [
        "%matplotlib inline\n",
        "\n",
        "from PIL import Image\n",
        "from pathlib import Path\n",
        "\n",
        "import numpy as np\n",
        "import torch\n",
        "import torch.nn as nn\n",
        "import torch.optim as optim\n",
        "import torch.autograd as autograd\n",
        "import torch.nn.functional as F\n",
        "from torchvision import datasets, transforms, models\n",
        "from torch.utils.data import DataLoader, Dataset\n",
        "import math\n",
        "from torch.autograd import Variable\n",
        "from torchvision.utils import save_image\n",
        "import cv2\n",
        "import sys\n",
        "import copy\n",
        "\n",
        "import matplotlib.pyplot as plt\n",
        "\n",
        "rng = np.random.RandomState(1234)\n",
        "random_state = 42"
      ],
      "execution_count": null,
      "outputs": []
    },
    {
      "cell_type": "code",
      "source": [
        "from google.colab import drive\n",
        "drive.mount('/content/drive')"
      ],
      "metadata": {
        "id": "7_zpZncmj6zS"
      },
      "execution_count": null,
      "outputs": []
    },
    {
      "cell_type": "markdown",
      "metadata": {
        "id": "sx32pWtTrZxW"
      },
      "source": [
        ""
      ]
    },
    {
      "cell_type": "code",
      "metadata": {
        "colab": {
          "base_uri": "https://localhost:8080/"
        },
        "id": "JejGqcNtnJQZ",
        "outputId": "710ed5f4-bf35-4590-bf6d-fa2730836149"
      },
      "source": [
        "class MyDataset(Dataset):\n",
        "    def __init__(self, dir_path, input_size):\n",
        "        super().__init__()\n",
        "        \n",
        "        self.dir_path = dir_path\n",
        "        self.input_size = input_size\n",
        "        self.transform = transforms.Compose([transforms.ToTensor()]) \n",
        "        self.image_paths = [str(p) for p in Path(self.dir_path).glob(\"**/*.bmp\")]\n",
        "        self.len = len(self.image_paths)\n",
        "\n",
        "        \n",
        "    def __len__(self):\n",
        "        return self.len\n",
        "    \n",
        "    def __getitem__(self, index):\n",
        "        p = self.image_paths[index]\n",
        "        \n",
        "        # 入力\n",
        "        image = Image.open(p)\n",
        "        image = image.resize(self.input_size)\n",
        "        image = self.transform(image)\n",
        "        \n",
        "        # ラベル (0: ants, 1: bees)\n",
        "        label = p.split(\"/\")[2]\n",
        "        label = 1 if label == \"bees\" else 0\n",
        "        \n",
        "        return image, label\n",
        "        \n",
        "    \n",
        "\n",
        "\n",
        "\n",
        "\n",
        "transform=transforms.ToTensor(),  # Tensor化\n",
        "save_img = True \n",
        "train_dataset = MyDataset(\"/content/train\", (749,115))\n",
        "valid_dataset = MyDataset(\"/content/test\", (749,115))\n",
        "\n",
        "dataloader_train=torch.utils.data.DataLoader(train_dataset, batch_size=2, shuffle=True, num_workers=0)\n",
        "dataloader_valid=torch.utils.data.DataLoader(valid_dataset, batch_size=2, shuffle=True, num_workers=0)\n",
        "image, label = train_dataset[0]\n",
        "\n",
        "print(image.size(), label) \n",
        "\n"
      ],
      "execution_count": null,
      "outputs": [
        {
          "output_type": "stream",
          "name": "stdout",
          "text": [
            "torch.Size([3, 115, 749]) 0\n"
          ]
        }
      ]
    },
    {
      "cell_type": "code",
      "metadata": {
        "id": "gJkSNJgqptVs"
      },
      "source": [
        "class VAE(nn.Module):\n",
        "    def __init__(self, z_dim):\n",
        "      super(VAE, self).__init__()\n",
        "      self.dense_enc1 = nn.Linear((115*749*3), 400) \n",
        "      self.dense_enc2 = nn.Linear(400, 400) \n",
        "      self.dense_encmean = nn.Linear(400, z_dim) \n",
        "      self.dense_encvar = nn.Linear(400, z_dim) \n",
        "      self.dense_dec1 = nn.Linear(z_dim, 400) \n",
        "      self.dense_dec2 = nn.Linear(400, 400) \n",
        "      self.dense_dec3 = nn.Linear(400, 115*749*3) \n",
        "\n",
        "    def _encoder(self, x):\n",
        "      x = F.relu(self.dense_enc1(x)) \n",
        "      x = F.relu(self.dense_enc2(x)) \n",
        "      mean = self.dense_encmean(x) \n",
        "      var = F.softplus(self.dense_encvar(x)) \n",
        "      return mean, var\n",
        "\n",
        "    def _sample_z(self, mean, var):\n",
        "      epsilon = torch.randn(mean.shape).to(device) \n",
        "      return mean + torch.sqrt(var) * epsilon \n",
        "\n",
        "    def _decoder(self, z):\n",
        "      x = F.relu(self.dense_dec1(z)) \n",
        "      x = F.relu(self.dense_dec2(x)) \n",
        "      x = torch.sigmoid(self.dense_dec3(x)) \n",
        "      return x\n",
        "\n",
        "    def forward(self, x): \n",
        "      mean, var = self._encoder(x) \n",
        "      z = self._sample_z(mean, var) \n",
        "      x = self._decoder(z) \n",
        "      return x, z \n",
        "\n",
        "    def loss(self, x): #損出関数を定義\n",
        "      delta = 1e-7\n",
        "      mean, var = self._encoder(x) \n",
        "      KL = -0.5 * torch.mean(torch.sum(1 + torch.log(var + delta) - mean**2 - var)) \n",
        "      z = self._sample_z(mean, var) \n",
        "      y = self._decoder(z) \n",
        "      #再構築ロスとしてバイナリクロスエントロピー誤差の平均値を求める\n",
        "      reconstruction = torch.mean(torch.sum(x * torch.log(y + delta) + (1 - x) * torch.log(1 - y + delta)))\n",
        "      lower_bound = [-KL, reconstruction]                                      \n",
        "      return -sum(lower_bound) \n",
        "\n",
        "    def loss_only_reconstruction(self, x):\n",
        "      delta = 1e-7\n",
        "      mean, var = self._encoder(x)\n",
        "      z = self._sample_z(mean, var) \n",
        "      y = self._decoder(z) \n",
        "      #再構築ロスとしてバイナリクロスエントロピー誤差の平均値を求める\n",
        "      re = torch.mean(torch.sum(x * torch.log(y + delta) + (1 - x) * torch.log(1 - y + delta)))\n",
        "      return re #再構成ロスのみ返す\n",
        "    \n",
        "    def loss_1(self, x):\n",
        "      delta = 1e-7\n",
        "      mean, var = self._encoder(x)\n",
        "      reg_loss = 0.5 * torch.mean(torch.sum(1 + torch.log(var + delta) - mean**2 - var)) #正則誤差\n",
        "      z = self._sample_z(mean, var)\n",
        "      y = self._decoder(z)\n",
        "      rec_loss = torch.mean(torch.sum(x * torch.log(y + delta) + (1 - x) * torch.log(1 - y + delta))) #再構成誤差\n",
        "      # reg_loss = [-KL, reconstruction]                                      \n",
        "      return (rec_loss, reg_loss)\n",
        "\n"
      ],
      "execution_count": null,
      "outputs": []
    },
    {
      "cell_type": "code",
      "metadata": {
        "id": "ox-cqyjbpInZ"
      },
      "source": [
        "# batch_size = 10\n",
        "device = torch.device(\"cuda:0\" if torch.cuda.is_available() else \"cpu\")\n",
        "n_epochs = 100\n"
      ],
      "execution_count": null,
      "outputs": []
    },
    {
      "cell_type": "code",
      "source": [
        "model = VAE(8).to(device)\n",
        "optimizer = optim.Adam(model.parameters(), lr=0.001)\n",
        "model.train()\n",
        "for i in range(100):\n",
        "  rec_error_record = []\n",
        "  reg_error_record = []\n",
        "  total_error_record = []\n",
        "  for x,t in dataloader_train:\n",
        "    x = x.to(device)\n",
        "    x = x.view(-1,115*749*3)\n",
        "    y = model(x)\n",
        "    lrec, lreg = model.loss_1(x)\n",
        "    loss = -(lrec + lreg)\n",
        "    if torch.isnan(loss):\n",
        "      model = prev_model\n",
        "      optimizer = torch.optim.Adam(model.parameters())\n",
        "      optimizer.load_state_dict(prev_optimizer.state_dict())\n",
        "    else:\n",
        "      prev_model = copy.deepcopy(model)\n",
        "      prev_optimizer = copy.deepcopy(optimizer)\n",
        "    \n",
        "    model.zero_grad()\n",
        "    loss.backward()\n",
        "    optimizer.step()\n",
        "    rec_error_record.append(lrec.cpu().detach().numpy())\n",
        "    reg_error_record.append(lreg.cpu().detach().numpy())\n",
        "    total_error_record.append(loss.cpu().detach().numpy())\n",
        "  print(\"EPOCH: {} loss_total: {}\".format(i, np.average(total_error_record)), \"EPOCH: {} loss_rec: {}\".format(i, np.average(rec_error_record)), \"EPOCH: {} loss_reg: {}\".format(i, np.average(reg_error_record)))\n",
        "torch.save(model.state_dict(),\"model.pth\")"
      ],
      "metadata": {
        "colab": {
          "base_uri": "https://localhost:8080/"
        },
        "id": "Cnd3hSfyAIx-",
        "outputId": "5a96e79e-4c2f-408a-f02b-7a1f42f56867"
      },
      "execution_count": null,
      "outputs": [
        {
          "output_type": "stream",
          "name": "stdout",
          "text": [
            "EPOCH: 0 loss_total: 64856.89453125 EPOCH: 0 loss_rec: -64760.7734375 EPOCH: 0 loss_reg: -96.12454986572266\n",
            "EPOCH: 1 loss_total: 58630.28515625 EPOCH: 1 loss_rec: -58578.078125 EPOCH: 1 loss_reg: -52.213470458984375\n",
            "EPOCH: 2 loss_total: 58194.1640625 EPOCH: 2 loss_rec: -58135.08984375 EPOCH: 2 loss_reg: -59.07061004638672\n",
            "EPOCH: 3 loss_total: 57770.45703125 EPOCH: 3 loss_rec: -57706.5859375 EPOCH: 3 loss_reg: -63.87329864501953\n",
            "EPOCH: 4 loss_total: 57268.51171875 EPOCH: 4 loss_rec: -57200.7109375 EPOCH: 4 loss_reg: -67.7964859008789\n",
            "EPOCH: 5 loss_total: 57321.515625 EPOCH: 5 loss_rec: -57251.62890625 EPOCH: 5 loss_reg: -69.88414764404297\n",
            "EPOCH: 6 loss_total: 56916.97265625 EPOCH: 6 loss_rec: -56845.23046875 EPOCH: 6 loss_reg: -71.744140625\n",
            "EPOCH: 7 loss_total: 57013.7890625 EPOCH: 7 loss_rec: -56939.43359375 EPOCH: 7 loss_reg: -74.35340881347656\n",
            "EPOCH: 8 loss_total: 57009.84375 EPOCH: 8 loss_rec: -56936.76953125 EPOCH: 8 loss_reg: -73.07471466064453\n",
            "EPOCH: 9 loss_total: 56817.98046875 EPOCH: 9 loss_rec: -56747.13671875 EPOCH: 9 loss_reg: -70.84113311767578\n",
            "EPOCH: 10 loss_total: 56586.75390625 EPOCH: 10 loss_rec: -56516.609375 EPOCH: 10 loss_reg: -70.14787292480469\n",
            "EPOCH: 11 loss_total: 56528.515625 EPOCH: 11 loss_rec: -56456.296875 EPOCH: 11 loss_reg: -72.21580505371094\n",
            "EPOCH: 12 loss_total: 56689.58984375 EPOCH: 12 loss_rec: -56621.12109375 EPOCH: 12 loss_reg: -68.47045135498047\n",
            "EPOCH: 13 loss_total: 56434.15625 EPOCH: 13 loss_rec: -56364.92578125 EPOCH: 13 loss_reg: -69.22545623779297\n",
            "EPOCH: 14 loss_total: 56232.48046875 EPOCH: 14 loss_rec: -56160.6875 EPOCH: 14 loss_reg: -71.7986831665039\n",
            "EPOCH: 15 loss_total: 56353.578125 EPOCH: 15 loss_rec: -56288.2578125 EPOCH: 15 loss_reg: -65.32357025146484\n",
            "EPOCH: 16 loss_total: 56095.42578125 EPOCH: 16 loss_rec: -56023.51953125 EPOCH: 16 loss_reg: -71.90666198730469\n",
            "EPOCH: 17 loss_total: 55980.296875 EPOCH: 17 loss_rec: -55910.69140625 EPOCH: 17 loss_reg: -69.60310363769531\n",
            "EPOCH: 18 loss_total: 55988.88671875 EPOCH: 18 loss_rec: -55922.99609375 EPOCH: 18 loss_reg: -65.89595794677734\n",
            "EPOCH: 19 loss_total: 56147.8515625 EPOCH: 19 loss_rec: -56079.0 EPOCH: 19 loss_reg: -68.84730529785156\n",
            "EPOCH: 20 loss_total: 55980.48046875 EPOCH: 20 loss_rec: -55910.5546875 EPOCH: 20 loss_reg: -69.92608642578125\n",
            "EPOCH: 21 loss_total: 55836.41015625 EPOCH: 21 loss_rec: -55766.87890625 EPOCH: 21 loss_reg: -69.52989196777344\n",
            "EPOCH: 22 loss_total: 55679.66015625 EPOCH: 22 loss_rec: -55612.51171875 EPOCH: 22 loss_reg: -67.15072631835938\n",
            "EPOCH: 23 loss_total: 55861.0 EPOCH: 23 loss_rec: -55790.35546875 EPOCH: 23 loss_reg: -70.64376831054688\n",
            "EPOCH: 24 loss_total: 55909.890625 EPOCH: 24 loss_rec: -55839.3515625 EPOCH: 24 loss_reg: -70.53845977783203\n",
            "EPOCH: 25 loss_total: 55953.94921875 EPOCH: 25 loss_rec: -55882.73046875 EPOCH: 25 loss_reg: -71.21688842773438\n",
            "EPOCH: 26 loss_total: 55630.5 EPOCH: 26 loss_rec: -55559.875 EPOCH: 26 loss_reg: -70.62330627441406\n",
            "EPOCH: 27 loss_total: 56070.96484375 EPOCH: 27 loss_rec: -56000.25390625 EPOCH: 27 loss_reg: -70.71253204345703\n",
            "EPOCH: 28 loss_total: 55689.99609375 EPOCH: 28 loss_rec: -55621.44921875 EPOCH: 28 loss_reg: -68.54603576660156\n",
            "EPOCH: 29 loss_total: 55588.3125 EPOCH: 29 loss_rec: -55518.06640625 EPOCH: 29 loss_reg: -70.25196838378906\n",
            "EPOCH: 30 loss_total: 55855.11328125 EPOCH: 30 loss_rec: -55772.6875 EPOCH: 30 loss_reg: -82.42604064941406\n",
            "EPOCH: 31 loss_total: 55308.17578125 EPOCH: 31 loss_rec: -55237.96484375 EPOCH: 31 loss_reg: -70.21157836914062\n",
            "EPOCH: 32 loss_total: 55438.69921875 EPOCH: 32 loss_rec: -55367.703125 EPOCH: 32 loss_reg: -70.99632263183594\n",
            "EPOCH: 33 loss_total: 55743.9140625 EPOCH: 33 loss_rec: -55669.35546875 EPOCH: 33 loss_reg: -74.56402587890625\n",
            "EPOCH: 34 loss_total: 55858.40234375 EPOCH: 34 loss_rec: -55786.828125 EPOCH: 34 loss_reg: -71.57530212402344\n",
            "EPOCH: 35 loss_total: 55526.34765625 EPOCH: 35 loss_rec: -55454.77734375 EPOCH: 35 loss_reg: -71.57086181640625\n",
            "EPOCH: 36 loss_total: 55600.43359375 EPOCH: 36 loss_rec: -55529.90625 EPOCH: 36 loss_reg: -70.53046417236328\n",
            "EPOCH: 37 loss_total: 55649.46484375 EPOCH: 37 loss_rec: -55577.15625 EPOCH: 37 loss_reg: -72.31229400634766\n",
            "EPOCH: 38 loss_total: 55925.7578125 EPOCH: 38 loss_rec: -55850.39453125 EPOCH: 38 loss_reg: -75.36682891845703\n",
            "EPOCH: 39 loss_total: 55665.66796875 EPOCH: 39 loss_rec: -55593.1953125 EPOCH: 39 loss_reg: -72.46741485595703\n",
            "EPOCH: 40 loss_total: 55466.5703125 EPOCH: 40 loss_rec: -55396.2734375 EPOCH: 40 loss_reg: -70.29461669921875\n",
            "EPOCH: 41 loss_total: 55307.2734375 EPOCH: 41 loss_rec: -55236.7265625 EPOCH: 41 loss_reg: -70.5487289428711\n",
            "EPOCH: 42 loss_total: 55391.4453125 EPOCH: 42 loss_rec: -55319.625 EPOCH: 42 loss_reg: -71.82134246826172\n",
            "EPOCH: 43 loss_total: 55289.734375 EPOCH: 43 loss_rec: -55215.55859375 EPOCH: 43 loss_reg: -74.17430114746094\n",
            "EPOCH: 44 loss_total: 55172.33984375 EPOCH: 44 loss_rec: -55099.65625 EPOCH: 44 loss_reg: -72.67881774902344\n",
            "EPOCH: 45 loss_total: 55357.23046875 EPOCH: 45 loss_rec: -55284.62890625 EPOCH: 45 loss_reg: -72.6046371459961\n",
            "EPOCH: 46 loss_total: 55578.9296875 EPOCH: 46 loss_rec: -55503.640625 EPOCH: 46 loss_reg: -75.28721618652344\n",
            "EPOCH: 47 loss_total: 55728.7734375 EPOCH: 47 loss_rec: -55651.80078125 EPOCH: 47 loss_reg: -76.97281646728516\n",
            "EPOCH: 48 loss_total: 55460.0234375 EPOCH: 48 loss_rec: -55384.1015625 EPOCH: 48 loss_reg: -75.91864776611328\n",
            "EPOCH: 49 loss_total: 55320.26171875 EPOCH: 49 loss_rec: -55246.81640625 EPOCH: 49 loss_reg: -73.44495391845703\n",
            "EPOCH: 50 loss_total: 55302.90234375 EPOCH: 50 loss_rec: -55225.6640625 EPOCH: 50 loss_reg: -77.23854064941406\n",
            "EPOCH: 51 loss_total: 55337.45703125 EPOCH: 51 loss_rec: -55259.78515625 EPOCH: 51 loss_reg: -77.6728744506836\n",
            "EPOCH: 52 loss_total: 55132.4609375 EPOCH: 52 loss_rec: -55055.95703125 EPOCH: 52 loss_reg: -76.5046615600586\n",
            "EPOCH: 53 loss_total: 54951.18359375 EPOCH: 53 loss_rec: -54876.890625 EPOCH: 53 loss_reg: -74.29938507080078\n",
            "EPOCH: 54 loss_total: 55053.67578125 EPOCH: 54 loss_rec: -54980.21484375 EPOCH: 54 loss_reg: -73.45684051513672\n",
            "EPOCH: 55 loss_total: 55086.31640625 EPOCH: 55 loss_rec: -55014.1171875 EPOCH: 55 loss_reg: -72.19976043701172\n",
            "EPOCH: 56 loss_total: 55703.13671875 EPOCH: 56 loss_rec: -55628.50390625 EPOCH: 56 loss_reg: -74.63191223144531\n",
            "EPOCH: 57 loss_total: 55073.22265625 EPOCH: 57 loss_rec: -54997.9921875 EPOCH: 57 loss_reg: -75.23223876953125\n",
            "EPOCH: 58 loss_total: 55022.01953125 EPOCH: 58 loss_rec: -54946.8671875 EPOCH: 58 loss_reg: -75.14888763427734\n",
            "EPOCH: 59 loss_total: 55172.4609375 EPOCH: 59 loss_rec: -55097.421875 EPOCH: 59 loss_reg: -75.03858184814453\n",
            "EPOCH: 60 loss_total: 55024.56640625 EPOCH: 60 loss_rec: -54950.2734375 EPOCH: 60 loss_reg: -74.29084014892578\n",
            "EPOCH: 61 loss_total: 54842.26171875 EPOCH: 61 loss_rec: -54769.8828125 EPOCH: 61 loss_reg: -72.38236236572266\n",
            "EPOCH: 62 loss_total: 54850.5390625 EPOCH: 62 loss_rec: -54777.875 EPOCH: 62 loss_reg: -72.66366577148438\n",
            "EPOCH: 63 loss_total: 54875.91015625 EPOCH: 63 loss_rec: -54804.578125 EPOCH: 63 loss_reg: -71.33155822753906\n",
            "EPOCH: 64 loss_total: 55071.61328125 EPOCH: 64 loss_rec: -54995.46484375 EPOCH: 64 loss_reg: -76.14740753173828\n",
            "EPOCH: 65 loss_total: 54892.60546875 EPOCH: 65 loss_rec: -54817.66015625 EPOCH: 65 loss_reg: -74.94331359863281\n",
            "EPOCH: 66 loss_total: 55058.6328125 EPOCH: 66 loss_rec: -54985.33984375 EPOCH: 66 loss_reg: -73.29195404052734\n",
            "EPOCH: 67 loss_total: 55092.87890625 EPOCH: 67 loss_rec: -55017.8671875 EPOCH: 67 loss_reg: -75.01722717285156\n",
            "EPOCH: 68 loss_total: 54796.8125 EPOCH: 68 loss_rec: -54722.875 EPOCH: 68 loss_reg: -73.93663024902344\n",
            "EPOCH: 69 loss_total: 55109.54296875 EPOCH: 69 loss_rec: -55034.203125 EPOCH: 69 loss_reg: -75.33596801757812\n",
            "EPOCH: 70 loss_total: 54986.64453125 EPOCH: 70 loss_rec: -54911.671875 EPOCH: 70 loss_reg: -74.97476196289062\n",
            "EPOCH: 71 loss_total: 55132.83984375 EPOCH: 71 loss_rec: -55057.796875 EPOCH: 71 loss_reg: -75.04428100585938\n",
            "EPOCH: 72 loss_total: 54970.68359375 EPOCH: 72 loss_rec: -54894.45703125 EPOCH: 72 loss_reg: -76.22361755371094\n",
            "EPOCH: 73 loss_total: 55196.5234375 EPOCH: 73 loss_rec: -55120.15234375 EPOCH: 73 loss_reg: -76.37030029296875\n",
            "EPOCH: 74 loss_total: 55197.0234375 EPOCH: 74 loss_rec: -55117.76953125 EPOCH: 74 loss_reg: -79.25227355957031\n",
            "EPOCH: 75 loss_total: 55066.69921875 EPOCH: 75 loss_rec: -54986.9140625 EPOCH: 75 loss_reg: -79.78753662109375\n",
            "EPOCH: 76 loss_total: 54980.11328125 EPOCH: 76 loss_rec: -54903.49609375 EPOCH: 76 loss_reg: -76.62323760986328\n",
            "EPOCH: 77 loss_total: 54748.44140625 EPOCH: 77 loss_rec: -54673.0625 EPOCH: 77 loss_reg: -75.37616729736328\n",
            "EPOCH: 78 loss_total: 54982.515625 EPOCH: 78 loss_rec: -54907.9453125 EPOCH: 78 loss_reg: -74.56993103027344\n",
            "EPOCH: 79 loss_total: 55235.33984375 EPOCH: 79 loss_rec: -55156.7890625 EPOCH: 79 loss_reg: -78.54999542236328\n",
            "EPOCH: 80 loss_total: 55123.21484375 EPOCH: 80 loss_rec: -55045.8125 EPOCH: 80 loss_reg: -77.40327453613281\n",
            "EPOCH: 81 loss_total: 54920.08984375 EPOCH: 81 loss_rec: -54842.5078125 EPOCH: 81 loss_reg: -77.5829086303711\n",
            "EPOCH: 82 loss_total: 54805.03125 EPOCH: 82 loss_rec: -54728.83203125 EPOCH: 82 loss_reg: -76.19512939453125\n",
            "EPOCH: 83 loss_total: 54772.7734375 EPOCH: 83 loss_rec: -54698.4609375 EPOCH: 83 loss_reg: -74.3092041015625\n",
            "EPOCH: 84 loss_total: 54987.87109375 EPOCH: 84 loss_rec: -54911.875 EPOCH: 84 loss_reg: -75.99510192871094\n",
            "EPOCH: 85 loss_total: 54828.28125 EPOCH: 85 loss_rec: -54754.8359375 EPOCH: 85 loss_reg: -73.44947814941406\n",
            "EPOCH: 86 loss_total: 55223.38671875 EPOCH: 86 loss_rec: -55151.546875 EPOCH: 86 loss_reg: -71.8355484008789\n",
            "EPOCH: 87 loss_total: 54883.09375 EPOCH: 87 loss_rec: -54806.68359375 EPOCH: 87 loss_reg: -76.40919494628906\n",
            "EPOCH: 88 loss_total: 55182.6015625 EPOCH: 88 loss_rec: -55104.84765625 EPOCH: 88 loss_reg: -77.75199890136719\n",
            "EPOCH: 89 loss_total: 55058.1171875 EPOCH: 89 loss_rec: -54980.16796875 EPOCH: 89 loss_reg: -77.9452133178711\n",
            "EPOCH: 90 loss_total: 54971.98046875 EPOCH: 90 loss_rec: -54894.74609375 EPOCH: 90 loss_reg: -77.23431396484375\n",
            "EPOCH: 91 loss_total: 55063.9765625 EPOCH: 91 loss_rec: -54980.91015625 EPOCH: 91 loss_reg: -83.0630874633789\n",
            "EPOCH: 92 loss_total: 54696.98046875 EPOCH: 92 loss_rec: -54621.48828125 EPOCH: 92 loss_reg: -75.49518585205078\n",
            "EPOCH: 93 loss_total: 54663.9296875 EPOCH: 93 loss_rec: -54588.3671875 EPOCH: 93 loss_reg: -75.5616226196289\n",
            "EPOCH: 94 loss_total: 54665.734375 EPOCH: 94 loss_rec: -54591.05859375 EPOCH: 94 loss_reg: -74.67623901367188\n",
            "EPOCH: 95 loss_total: 54735.3203125 EPOCH: 95 loss_rec: -54660.6953125 EPOCH: 95 loss_reg: -74.62238311767578\n",
            "EPOCH: 96 loss_total: 54690.9296875 EPOCH: 96 loss_rec: -54614.54296875 EPOCH: 96 loss_reg: -76.38605499267578\n",
            "EPOCH: 97 loss_total: 54612.52734375 EPOCH: 97 loss_rec: -54538.0234375 EPOCH: 97 loss_reg: -74.50656127929688\n",
            "EPOCH: 98 loss_total: 54575.78125 EPOCH: 98 loss_rec: -54502.00390625 EPOCH: 98 loss_reg: -73.77951049804688\n",
            "EPOCH: 99 loss_total: 54890.7109375 EPOCH: 99 loss_rec: -54813.76953125 EPOCH: 99 loss_reg: -76.94244384765625\n"
          ]
        }
      ]
    },
    {
      "cell_type": "code",
      "metadata": {
        "colab": {
          "base_uri": "https://localhost:8080/",
          "height": 154
        },
        "id": "SsDAJ_ebaL8y",
        "outputId": "ebd202a0-6e55-412a-ad1b-ac2ae1dc07ad"
      },
      "source": [
        "import matplotlib.pyplot as plt\n",
        "import numpy as np\n",
        "\n",
        "fig = plt.figure(figsize=(10, 3)) \n",
        "\n",
        "\n",
        "model.eval() \n",
        "zs = []\n",
        "for x in dataloader_train: \n",
        "  images=x[0].view(-1,3,115,749)\n",
        "  images = np.transpose(images.detach().cpu().numpy(), (0,2,3,1))\n",
        "  for i, im in enumerate(images[:2]):\n",
        "    pil_img = Image.fromarray(np.uint8(im * 255))\n",
        "    pil_img.save(\"/content/result/train_ex_img_{}.bmp\".format(i))\n",
        "    ax = fig.add_subplot(3, 10, i+1, xticks=[], yticks=[])\n",
        "    ax.imshow(im, \"gray\")\n",
        "  x = x[0].to(device)\n",
        "  x = x.view(-1,115*749*3)\n",
        "  y, z = model(x) \n",
        "  zs.append(z)\n",
        "  y = y.view(-1, 3, 115, 749) \n",
        "  y=np.transpose(y.detach().cpu().numpy(), (0,2,3,1))\n",
        "  for i, im in enumerate(y[:2]):\n",
        "    pil_img.save(\"/content/result/train_af_img_{}.bmp\".format(i))\n",
        "    ax = fig.add_subplot(3, 10, i+11, xticks=[], yticks=[])\n",
        "    ax.imshow(im, \"gray\")"
      ],
      "execution_count": null,
      "outputs": [
        {
          "output_type": "stream",
          "name": "stderr",
          "text": [
            "/usr/local/lib/python3.7/dist-packages/ipykernel_launcher.py:32: MatplotlibDeprecationWarning: Adding an axes using the same arguments as a previous axes currently reuses the earlier instance.  In a future version, a new instance will always be created and returned.  Meanwhile, this warning can be suppressed, and the future behavior ensured, by passing a unique label to each axes instance.\n",
            "/usr/local/lib/python3.7/dist-packages/ipykernel_launcher.py:51: MatplotlibDeprecationWarning: Adding an axes using the same arguments as a previous axes currently reuses the earlier instance.  In a future version, a new instance will always be created and returned.  Meanwhile, this warning can be suppressed, and the future behavior ensured, by passing a unique label to each axes instance.\n"
          ]
        },
        {
          "output_type": "display_data",
          "data": {
            "image/png": "[encoded data removed]",
            "text/plain": [
              "<Figure size 720x216 with 4 Axes>"
            ]
          },
          "metadata": {}
        }
      ]
    },
    {
      "cell_type": "code",
      "metadata": {
        "colab": {
          "base_uri": "https://localhost:8080/",
          "height": 154
        },
        "id": "8EMu3VPM8nTb",
        "outputId": "28a254ea-cf68-4350-9643-4766c4092f49"
      },
      "source": [
        "import matplotlib.pyplot as plt\n",
        "import numpy as np\n",
        "\n",
        "fig = plt.figure(figsize=(10, 3)) \n",
        "\n",
        "\n",
        "model.eval()\n",
        "zs = []\n",
        "for x in dataloader_valid: \n",
        "  images=x[0].view(-1,3,115,749)\n",
        "  images = np.transpose(images.detach().cpu().numpy(), (0,2,3,1))\n",
        "  for i, im in enumerate(images[:2]):\n",
        "    pil_img = Image.fromarray((im * 255).astype(np.uint8))\n",
        "    pil_img.save(\"/content/result/valid_ex_img_{}.bmp\".format(i))\n",
        "    ax = fig.add_subplot(3, 10, i+1, xticks=[], yticks=[])\n",
        "    ax.imshow(im, \"gray\")\n",
        "  x = x[0].to(device)\n",
        "  x = x.view(-1,115*749*3)\n",
        "  y, z = model(x) \n",
        "  zs.append(z)\n",
        "  y = y.view(-1, 3, 115, 749)\n",
        "  y=np.transpose(y.detach().cpu().numpy(), (0,2,3,1))\n",
        "  for i, im in enumerate(y[:2]):\n",
        "    pil_img = Image.fromarray(np.uint8(im * 255))\n",
        "    pil_img.save(\"/content/result/valid_af_img_{}.bmp\".format(i))\n",
        "    ax = fig.add_subplot(3, 10, i+11, xticks=[], yticks=[])\n",
        "    ax.imshow(im, \"gray\")"
      ],
      "execution_count": null,
      "outputs": [
        {
          "output_type": "stream",
          "name": "stderr",
          "text": [
            "/usr/local/lib/python3.7/dist-packages/ipykernel_launcher.py:32: MatplotlibDeprecationWarning: Adding an axes using the same arguments as a previous axes currently reuses the earlier instance.  In a future version, a new instance will always be created and returned.  Meanwhile, this warning can be suppressed, and the future behavior ensured, by passing a unique label to each axes instance.\n",
            "/usr/local/lib/python3.7/dist-packages/ipykernel_launcher.py:51: MatplotlibDeprecationWarning: Adding an axes using the same arguments as a previous axes currently reuses the earlier instance.  In a future version, a new instance will always be created and returned.  Meanwhile, this warning can be suppressed, and the future behavior ensured, by passing a unique label to each axes instance.\n"
          ]
        },
        {
          "output_type": "display_data",
          "data": {
            "image/png": "[encoded data removed]",
            "text/plain": [
              "<Figure size 720x216 with 4 Axes>"
            ]
          },
          "metadata": {}
        }
      ]
    },
    {
      "cell_type": "code",
      "source": [
        "model.eval()\n",
        "losses = []\n",
        "for x in dataloader_valid:\n",
        "  x = x[0].to(device)\n",
        "  x = x.view(-1,115*749*3)\n",
        "  y,z= model(x)\n",
        "  for im in x:\n",
        "    loss = model.loss_only_reconstruction(im)\n",
        "    losses.append(loss.cpu().detach().numpy())\n",
        "print(\"average_loss: {}\".format(np.average(losses))) #1エポックにおける損出の平均を代入"
      ],
      "metadata": {
        "colab": {
          "base_uri": "https://localhost:8080/"
        },
        "id": "Nd2UtTUE2hb8",
        "outputId": "d12079a7-a0ce-4fa6-dc04-7b812d7c8b75"
      },
      "execution_count": null,
      "outputs": [
        {
          "output_type": "stream",
          "name": "stdout",
          "text": [
            "average_loss: -28469.423828125\n"
          ]
        }
      ]
    },
    {
      "cell_type": "code",
      "metadata": {
        "colab": {
          "base_uri": "https://localhost:8080/",
          "height": 227
        },
        "id": "p1wAWyNh9c74",
        "outputId": "7b9f38bf-b3e0-434e-fbf6-80cce046cf1a"
      },
      "source": [
        "#デコーダに任意の値のデータを入力して画像を生成する\n",
        "batch_size=10 \n",
        "z=torch.randn(batch_size, 8, device=device)\n",
        "\n",
        "#VAEモデルを評価モードにする\n",
        "model.eval()\n",
        "images=model._decoder(z)\n",
        "images=images.view(-1, 3, 115, 749)\n",
        "print(images.size())\n",
        "\n",
        "images = Variable(images).to(device)\n",
        "images = np.transpose(images.detach().cpu().numpy(), (0,2,3,1))\n",
        "for i, image in enumerate(images):\n",
        "  plt.subplot(3, 10, i+1) \n",
        "  plt.imshow(image, cmap=\"binary_r\") \n",
        "  plt.axis(\"off\")\n",
        "  pil_img = Image.fromarray(np.uint8(image * 255))\n",
        "  print(pil_img.mode)\n",
        "  pil_img.save(\"/content/result/edit_img_{}.bmp\".format(i))\n",
        "plt.tight_layout()\n",
        "plt.show()\n",
        "\n",
        "   "
      ],
      "execution_count": null,
      "outputs": [
        {
          "output_type": "stream",
          "name": "stdout",
          "text": [
            "torch.Size([10, 3, 115, 749])\n",
            "RGB\n",
            "RGB\n",
            "RGB\n",
            "RGB\n",
            "RGB\n",
            "RGB\n",
            "RGB\n",
            "RGB\n",
            "RGB\n",
            "RGB\n"
          ]
        },
        {
          "output_type": "display_data",
          "data": {
            "image/png": "[encoded data removed]",
            "text/plain": [
              "<Figure size 432x288 with 10 Axes>"
            ]
          },
          "metadata": {
            "needs_background": "light"
          }
        }
      ]
    },
    {
      "cell_type": "code",
      "source": [
        "\n",
        "fig = plt.figure(figsize=(10, 3))\n",
        "model.eval()\n",
        "\n",
        "x0, t = train_dataset[800]\n",
        "x0_1= x0.to(device)\n",
        "x0_1 = x0_1.view(-1,115*749*3)\n",
        "y0, z0 = model(x0_1)\n",
        "print(z0)\n",
        "im = x0.view(-1, 3, 115, 749).permute(0, 2, 3, 1).cpu().squeeze().detach().numpy()\n",
        "pil_img = Image.fromarray(np.uint8(im * 255))\n",
        "pil_img.save(\"/content/result/source_img.bmp\")\n",
        "ax0 = fig.add_subplot(1, 2, 1, xticks=[], yticks=[])\n",
        "ax0.set_title('Source image')\n",
        "ax0.imshow(im, 'gray')\n",
        "\n",
        "x1, t = train_dataset[1500]\n",
        "x1_1=x1.to(device)\n",
        "x1_1 = x1_1.view(-1,115*749*3)\n",
        "y1, z1 = model(x1_1)\n",
        "print(z1)\n",
        "im = x1.view(-1, 3, 115, 749).permute(0,2,3,1).cpu().squeeze().detach().numpy()\n",
        "pil_img = Image.fromarray(np.uint8(im * 255))\n",
        "pil_img.save(\"/content/result/target_img.bmp\")\n",
        "ax1 = fig.add_subplot(1, 2, 2, xticks=[], yticks=[])\n",
        "ax1.set_title('Target image')\n",
        "ax1.imshow(im, 'gray')"
      ],
      "metadata": {
        "id": "0MBJoYXa66ng",
        "colab": {
          "base_uri": "https://localhost:8080/",
          "height": 176
        },
        "outputId": "50e8dd9c-4cd8-4ca2-863a-0a84307cf62d"
      },
      "execution_count": null,
      "outputs": [
        {
          "output_type": "stream",
          "name": "stdout",
          "text": [
            "tensor([[-0.7688, -2.0078, -1.5235, -1.6538,  0.6459, -2.5915, -0.8540,  0.9204]],\n",
            "       device='cuda:0', grad_fn=<AddBackward0>)\n",
            "tensor([[ 0.8481, -0.6611, -0.5411,  1.3137,  2.3267,  2.2158, -1.2812, -0.2867]],\n",
            "       device='cuda:0', grad_fn=<AddBackward0>)\n"
          ]
        },
        {
          "output_type": "execute_result",
          "data": {
            "text/plain": [
              "<matplotlib.image.AxesImage at 0x7eff31779210>"
            ]
          },
          "metadata": {},
          "execution_count": 137
        },
        {
          "output_type": "display_data",
          "data": {
            "image/png": "[encoded data removed]",
            "text/plain": [
              "<Figure size 720x216 with 2 Axes>"
            ]
          },
          "metadata": {}
        }
      ]
    },
    {
      "cell_type": "code",
      "source": [
        "fig = plt.figure(figsize=(10, 3))\n",
        "z_linear = torch.cat([z1 * (i * 0.1) + z0 * ((9 - i) * 0.1) for i in range(10)])\n",
        "z_linear = z_linear.view((10, -1))\n",
        "y2 = model._decoder(z_linear).view(-1, 3, 115, 749).permute(0,2,3,1)\n",
        "for i, im in enumerate(y2.cpu().detach().numpy()):\n",
        "    pil_img = Image.fromarray(np.uint8(im * 255))\n",
        "    pil_img.save(\"/content/result/morfhing_img_{}.bmp\".format(i))\n",
        "    ax = fig.add_subplot(1, 10, i+1, xticks=[], yticks=[])\n",
        "    ax.imshow(im, 'gray')"
      ],
      "metadata": {
        "id": "ONsSYEu57DCB",
        "colab": {
          "base_uri": "https://localhost:8080/",
          "height": 42
        },
        "outputId": "b910611c-0412-4adc-8212-9a9dbed84b98"
      },
      "execution_count": null,
      "outputs": [
        {
          "output_type": "display_data",
          "data": {
            "image/png": "[encoded data removed]",
            "text/plain": [
              "<Figure size 720x216 with 10 Axes>"
            ]
          },
          "metadata": {}
        }
      ]
    }
  ]
}